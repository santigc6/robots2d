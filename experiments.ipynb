{
 "cells": [
  {
   "cell_type": "code",
   "execution_count": 22,
   "metadata": {},
   "outputs": [
    {
     "data": {
      "text/plain": [
       "(100, 100, 3)"
      ]
     },
     "execution_count": 22,
     "metadata": {},
     "output_type": "execute_result"
    }
   ],
   "source": [
    "from PIL import Image\n",
    "import numpy as np\n",
    "\n",
    "im = Image.open(\"shapes/figura2.bmp\")\n",
    "p=np.array(im)\n",
    "p.shape"
   ]
  },
  {
   "cell_type": "code",
   "execution_count": 25,
   "metadata": {},
   "outputs": [
    {
     "data": {
      "text/plain": [
       "array([[0., 0., 0., ..., 0., 0., 0.],\n",
       "       [0., 0., 0., ..., 0., 0., 0.],\n",
       "       [0., 0., 0., ..., 0., 0., 0.],\n",
       "       ...,\n",
       "       [0., 0., 0., ..., 0., 0., 0.],\n",
       "       [0., 0., 0., ..., 0., 0., 0.],\n",
       "       [0., 0., 0., ..., 0., 0., 0.]])"
      ]
     },
     "execution_count": 25,
     "metadata": {},
     "output_type": "execute_result"
    }
   ],
   "source": [
    "WHITE=255\n",
    "BLACK=0\n",
    "MAX_PIXELS=100\n",
    "\n",
    "figure=np.zeros(shape=(100,100))\n",
    "\n",
    "i=0\n",
    "j=0\n",
    "for matrix in p:\n",
    "    for row in matrix:\n",
    "        if row[0]==BLACK:\n",
    "            figure[j][i]=1\n",
    "        elif row[0]==WHITE:\n",
    "            figure[j][i]=0\n",
    "\n",
    "        i+=1\n",
    "        if i == MAX_PIXELS:\n",
    "            i=0\n",
    "            j+=1\n",
    "        \n",
    "figure"
   ]
  },
  {
   "cell_type": "code",
   "execution_count": 47,
   "metadata": {},
   "outputs": [],
   "source": [
    "from scipy.optimize import minimize\n",
    "\n",
    "# x=(x_1, y_1)\n",
    "def distanceMulti(coords, distances):\n",
    "    def multilat(x, coords, distances):\n",
    "        return sum([abs(np.linalg.norm(x - coords[i]) - distances[i]) for i in range(len(coords))])\n",
    "\n",
    "    l = len(coords)\n",
    "    S = sum(distances)\n",
    "    # compute weight vector for initial guess\n",
    "    W = [((l - 1) * S) / (S - w) for w in distances]\n",
    "    # get initial guess of point location\n",
    "    x0 = sum([W[i] * coords[i] for i in range(l)])\n",
    "    # optimize distance from signal origin to border of spheres\n",
    "    res=minimize(multilat, x0, args=(coords, distances), method='Nelder-Mead').x\n",
    "    return res[0], res[1]"
   ]
  },
  {
   "cell_type": "code",
   "execution_count": 53,
   "metadata": {},
   "outputs": [
    {
     "data": {
      "text/plain": [
       "(3.999980454449832, 3.999924549830041)"
      ]
     },
     "execution_count": 53,
     "metadata": {},
     "output_type": "execute_result"
    }
   ],
   "source": [
    "distanceMulti(np.array([[3,3],[4,3],[3,4]]),np.array([1,1,1]))"
   ]
  },
  {
   "cell_type": "code",
   "execution_count": 49,
   "metadata": {},
   "outputs": [
    {
     "data": {
      "text/plain": [
       "1.4142135623730951"
      ]
     },
     "execution_count": 49,
     "metadata": {},
     "output_type": "execute_result"
    }
   ],
   "source": [
    "x = np.array([1,1])\n",
    "coord = np.array([0,0])\n",
    "np.linalg.norm(x-coord)"
   ]
  },
  {
   "cell_type": "code",
   "execution_count": 51,
   "metadata": {},
   "outputs": [
    {
     "data": {
      "text/plain": [
       "2"
      ]
     },
     "execution_count": 51,
     "metadata": {},
     "output_type": "execute_result"
    }
   ],
   "source": [
    "int(round(1.6))"
   ]
  },
  {
   "cell_type": "code",
   "execution_count": 55,
   "metadata": {},
   "outputs": [
    {
     "data": {
      "text/plain": [
       "[(5, 6), (3, 4), (1, 2)]"
      ]
     },
     "execution_count": 55,
     "metadata": {},
     "output_type": "execute_result"
    }
   ],
   "source": [
    "l=[(1,2),(3,4),(5,6)]\n",
    "list(reversed(l))"
   ]
  }
 ],
 "metadata": {
  "kernelspec": {
   "display_name": "Python 3",
   "language": "python",
   "name": "python3"
  },
  "language_info": {
   "codemirror_mode": {
    "name": "ipython",
    "version": 3
   },
   "file_extension": ".py",
   "mimetype": "text/x-python",
   "name": "python",
   "nbconvert_exporter": "python",
   "pygments_lexer": "ipython3",
   "version": "3.7.9"
  }
 },
 "nbformat": 4,
 "nbformat_minor": 4
}

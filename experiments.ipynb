{
 "cells": [
  {
   "cell_type": "code",
   "execution_count": 56,
   "metadata": {},
   "outputs": [
    {
     "data": {
      "text/plain": [
       "(21, 21, 3)"
      ]
     },
     "execution_count": 56,
     "metadata": {},
     "output_type": "execute_result"
    }
   ],
   "source": [
    "from PIL import Image\n",
    "import numpy as np\n",
    "\n",
    "im = Image.open(\"shapes/figura2.bmp\")\n",
    "p=np.array(im)\n",
    "p.shape"
   ]
  },
  {
   "cell_type": "code",
   "execution_count": 57,
   "metadata": {},
   "outputs": [
    {
     "data": {
      "text/plain": [
       "320"
      ]
     },
     "execution_count": 57,
     "metadata": {},
     "output_type": "execute_result"
    }
   ],
   "source": [
    "WHITE=255\n",
    "BLACK=0\n",
    "MAX_PIXELS=21\n",
    "\n",
    "figure=np.zeros(shape=(21,21))\n",
    "\n",
    "i=0\n",
    "j=0\n",
    "ones_count=0\n",
    "for matrix in p:\n",
    "    for row in matrix:\n",
    "        if row[0]==BLACK:\n",
    "            figure[j][i]=1\n",
    "            ones_count+=1\n",
    "        elif row[0]==WHITE:\n",
    "            figure[j][i]=0\n",
    "\n",
    "        i+=1\n",
    "        if i == MAX_PIXELS:\n",
    "            i=0\n",
    "            j+=1\n",
    "        \n",
    "ones_count"
   ]
  },
  {
   "cell_type": "code",
   "execution_count": 37,
   "metadata": {},
   "outputs": [],
   "source": [
    "from scipy.optimize import minimize\n",
    "\n",
    "# x=(x_1, y_1)\n",
    "def distanceMulti(coords, distances):\n",
    "    def multilat(x, coords, distances):\n",
    "        return sum([abs(np.linalg.norm(x - coords[i]) - distances[i]) for i in range(len(coords))])\n",
    "\n",
    "    l = len(coords)\n",
    "    S = sum(distances)\n",
    "    \n",
    "    # compute weight vector for initial guess\n",
    "    W = [((l - 1) * S) / (S - w) for w in distances]\n",
    "    # get initial guess of point location\n",
    "    x0 = sum([W[i] * coords[i] for i in range(l)])\n",
    "    # optimize distance from signal origin to border of spheres\n",
    "    \n",
    "    res=minimize(multilat, x0, args=(coords, distances), method='Nelder-Mead', tol=1e-30).x\n",
    "    \n",
    "    return int(round(res[0])), int(round(res[1]))"
   ]
  },
  {
   "cell_type": "code",
   "execution_count": 39,
   "metadata": {},
   "outputs": [
    {
     "data": {
      "text/plain": [
       "(1, -1)"
      ]
     },
     "execution_count": 39,
     "metadata": {},
     "output_type": "execute_result"
    }
   ],
   "source": [
    "point=[48,48]\n",
    "distanceMulti(np.array([[0,0],[0,1],[1,0],[2,0]]),np.array([np.linalg.norm(np.array(point)-np.array([47,49])),\n",
    "                                                      np.linalg.norm(np.array(point)-np.array([47,50])),\n",
    "                                                      np.linalg.norm(np.array(point)-np.array([48,49])),\n",
    "                                                      np.linalg.norm(np.array(point)-np.array([49,49]))]))"
   ]
  },
  {
   "cell_type": "code",
   "execution_count": null,
   "metadata": {},
   "outputs": [],
   "source": [
    "x = np.array([3,1])\n",
    "coord = np.array([0,0])\n",
    "np.linalg.norm(x-coord, ord=np.inf)"
   ]
  },
  {
   "cell_type": "code",
   "execution_count": null,
   "metadata": {},
   "outputs": [],
   "source": [
    "int(round(1.6))"
   ]
  },
  {
   "cell_type": "code",
   "execution_count": null,
   "metadata": {},
   "outputs": [],
   "source": [
    "l=[(1,2),(3,4),(5,6)]\n",
    "list(reversed(l))"
   ]
  },
  {
   "cell_type": "code",
   "execution_count": null,
   "metadata": {},
   "outputs": [],
   "source": [
    "from model import Robot2D\n",
    "\n",
    "model=Robot2D()\n",
    "dataframe=model.datacollector.get_model_vars_dataframe()\n",
    "for i in range(50):\n",
    "    model.step()\n",
    "dataframe.head()"
   ]
  },
  {
   "cell_type": "code",
   "execution_count": null,
   "metadata": {},
   "outputs": [],
   "source": [
    "a=[i for i in range(4)]+[i for i in range(4)]\n",
    "a"
   ]
  },
  {
   "cell_type": "code",
   "execution_count": 50,
   "metadata": {},
   "outputs": [
    {
     "data": {
      "text/plain": [
       "1.4142135623730951"
      ]
     },
     "execution_count": 50,
     "metadata": {},
     "output_type": "execute_result"
    }
   ],
   "source": [
    "np.linalg.norm(np.array([0,0])-np.array([-1,-1]))"
   ]
  },
  {
   "cell_type": "code",
   "execution_count": 61,
   "metadata": {},
   "outputs": [
    {
     "data": {
      "text/plain": [
       "True"
      ]
     },
     "execution_count": 61,
     "metadata": {},
     "output_type": "execute_result"
    }
   ],
   "source": [
    "(2,1)==(2,1)"
   ]
  }
 ],
 "metadata": {
  "kernelspec": {
   "display_name": "Python 3",
   "language": "python",
   "name": "python3"
  },
  "language_info": {
   "codemirror_mode": {
    "name": "ipython",
    "version": 3
   },
   "file_extension": ".py",
   "mimetype": "text/x-python",
   "name": "python",
   "nbconvert_exporter": "python",
   "pygments_lexer": "ipython3",
   "version": "3.7.9"
  }
 },
 "nbformat": 4,
 "nbformat_minor": 4
}
